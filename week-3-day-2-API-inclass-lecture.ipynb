{
 "cells": [
  {
   "cell_type": "markdown",
   "metadata": {},
   "source": [
    "# APIs\n"
   ]
  },
  {
   "cell_type": "markdown",
   "metadata": {},
   "source": [
    "## Tasks Today:\n",
    "1) <b>Requests and the pokemon API </b> <br>\n",
    " "
   ]
  },
  {
   "cell_type": "markdown",
   "metadata": {},
   "source": [
    "# working with APis"
   ]
  },
  {
   "cell_type": "markdown",
   "metadata": {},
   "source": [
    "<p> What exactly is an API? <br> <br>\n",
    "API is the acronym for Application Programming Interface, which is a software intermediary that allows two applications to talk to each other. Each time you use an app like Facebook, send an instant message, or check the weather on your phone, you're using an API. </p>"
   ]
  },
  {
   "cell_type": "markdown",
   "metadata": {},
   "source": [
    "### The Poke API  allows you to retreive a pokemon's information from PokeAPI https://pokeapi.co/\n",
    "\n"
   ]
  },
  {
   "cell_type": "code",
   "execution_count": 16,
   "metadata": {},
   "outputs": [
    {
     "ename": "NameError",
     "evalue": "name 'get' is not defined",
     "output_type": "error",
     "traceback": [
      "\u001b[0;31m---------------------------------------------------------------------------\u001b[0m",
      "\u001b[0;31mNameError\u001b[0m                                 Traceback (most recent call last)",
      "Cell \u001b[0;32mIn[16], line 6\u001b[0m\n\u001b[1;32m      2\u001b[0m \u001b[39mimport\u001b[39;00m \u001b[39mjson\u001b[39;00m\n\u001b[1;32m      4\u001b[0m pokemon \u001b[39m=\u001b[39m \u001b[39minput\u001b[39m(\u001b[39m'\u001b[39m\u001b[39mWhat pokemon do you want information for?\u001b[39m\u001b[39m'\u001b[39m)\n\u001b[0;32m----> 6\u001b[0m res \u001b[39m=\u001b[39m get(\u001b[39mf\u001b[39m\u001b[39m'\u001b[39m\u001b[39mhttps://pokeapi.co/api/v2/pokemon/ditto\u001b[39m\u001b[39m'\u001b[39m)\n\u001b[1;32m      8\u001b[0m \u001b[39mif\u001b[39;00m response\u001b[39m.\u001b[39mstatus_code \u001b[39m==\u001b[39m \u001b[39m200\u001b[39m:\n\u001b[1;32m      9\u001b[0m     \u001b[39mprint\u001b[39m(\u001b[39m'\u001b[39m\u001b[39mSUCCESS\u001b[39m\u001b[39m'\u001b[39m)\n",
      "\u001b[0;31mNameError\u001b[0m: name 'get' is not defined"
     ]
    }
   ],
   "source": [
    "# making an API call\n",
    "import json\n",
    "\n",
    "pokemon = input('What pokemon do you want information for?')\n",
    "\n",
    "res = get(f'https://pokeapi.co/api/v2/pokemon/ditto')\n",
    "\n",
    "if res.status_code == 200:\n",
    "    print('SUCCESS')\n",
    "    data = res.json()\n",
    "else:\n",
    "    print(f'ERROR, STATUS CODE {res.status_code}')"
   ]
  },
  {
   "cell_type": "code",
   "execution_count": null,
   "metadata": {},
   "outputs": [
    {
     "name": "stdout",
     "output_type": "stream",
     "text": [
      "psyduck\n"
     ]
    }
   ],
   "source": [
    "print(data['name'])"
   ]
  },
  {
   "cell_type": "markdown",
   "metadata": {},
   "source": [
    "### Display a Pokemon's name, weight, abilities, and types"
   ]
  },
  {
   "cell_type": "code",
   "execution_count": null,
   "metadata": {},
   "outputs": [
    {
     "ename": "NameError",
     "evalue": "name 'data' is not defined",
     "output_type": "error",
     "traceback": [
      "\u001b[0;31m---------------------------------------------------------------------------\u001b[0m",
      "\u001b[0;31mNameError\u001b[0m                                 Traceback (most recent call last)",
      "Cell \u001b[0;32mIn[2], line 2\u001b[0m\n\u001b[1;32m      1\u001b[0m \u001b[39m# get the name\u001b[39;00m\n\u001b[0;32m----> 2\u001b[0m name \u001b[39m=\u001b[39m data[\u001b[39m'\u001b[39m\u001b[39mname\u001b[39m\u001b[39m'\u001b[39m]\n",
      "\u001b[0;31mNameError\u001b[0m: name 'data' is not defined"
     ]
    }
   ],
   "source": [
    "# get the name\n",
    "name = data['name']"
   ]
  },
  {
   "cell_type": "code",
   "execution_count": null,
   "metadata": {},
   "outputs": [
    {
     "data": {
      "text/plain": [
       "[{'slot': 1,\n",
       "  'type': {'name': 'water', 'url': 'https://pokeapi.co/api/v2/type/11/'}}]"
      ]
     },
     "execution_count": 24,
     "metadata": {},
     "output_type": "execute_result"
    }
   ],
   "source": [
    "# get types\n",
    "types = data['types']\n",
    "types"
   ]
  },
  {
   "cell_type": "code",
   "execution_count": null,
   "metadata": {},
   "outputs": [
    {
     "data": {
      "text/plain": [
       "196"
      ]
     },
     "execution_count": 25,
     "metadata": {},
     "output_type": "execute_result"
    }
   ],
   "source": [
    "# get weight\n",
    "data = data['weight']\n",
    "weight"
   ]
  },
  {
   "cell_type": "code",
   "execution_count": null,
   "metadata": {},
   "outputs": [
    {
     "data": {
      "text/plain": [
       "[{'ability': {'name': 'damp', 'url': 'https://pokeapi.co/api/v2/ability/6/'},\n",
       "  'is_hidden': False,\n",
       "  'slot': 1},\n",
       " {'ability': {'name': 'cloud-nine',\n",
       "   'url': 'https://pokeapi.co/api/v2/ability/13/'},\n",
       "  'is_hidden': False,\n",
       "  'slot': 2},\n",
       " {'ability': {'name': 'swift-swim',\n",
       "   'url': 'https://pokeapi.co/api/v2/ability/33/'},\n",
       "  'is_hidden': True,\n",
       "  'slot': 3}]"
      ]
     },
     "execution_count": 26,
     "metadata": {},
     "output_type": "execute_result"
    }
   ],
   "source": [
    "# get abilities\n",
    "data['abilities']"
   ]
  },
  {
   "cell_type": "code",
   "execution_count": null,
   "metadata": {},
   "outputs": [],
   "source": [
    "ability_names = [item['ability']['name'] for item in data['abilities']]"
   ]
  },
  {
   "cell_type": "code",
   "execution_count": null,
   "metadata": {},
   "outputs": [
    {
     "data": {
      "text/plain": [
       "['damp', 'cloud-nine', 'swift-swim']"
      ]
     },
     "execution_count": 40,
     "metadata": {},
     "output_type": "execute_result"
    }
   ],
   "source": [
    "ability_names"
   ]
  },
  {
   "cell_type": "code",
   "execution_count": null,
   "metadata": {},
   "outputs": [],
   "source": [
    "# Create a structure for a single pokemon\n",
    "pokemon = {\n",
    "    'abilities': ability_names,\n",
    "    'name': data['name'],\n",
    "    'types': data['types'],\n",
    "    'weight': data['weight']\n",
    "}"
   ]
  },
  {
   "cell_type": "code",
   "execution_count": null,
   "metadata": {},
   "outputs": [
    {
     "data": {
      "text/plain": [
       "{'abilities': ['damp', 'cloud-nine', 'swift-swim'],\n",
       " 'name': 'psyduck',\n",
       " 'types': [{'slot': 1,\n",
       "   'type': {'name': 'water', 'url': 'https://pokeapi.co/api/v2/type/11/'}}],\n",
       " 'weight': 196}"
      ]
     },
     "execution_count": 42,
     "metadata": {},
     "output_type": "execute_result"
    }
   ],
   "source": [
    "pokemon"
   ]
  },
  {
   "cell_type": "markdown",
   "metadata": {},
   "source": [
    "#### Create a function to Pull in your own Pokemon's data "
   ]
  },
  {
   "cell_type": "code",
   "execution_count": null,
   "metadata": {},
   "outputs": [],
   "source": [
    "# Create a function that does the following:\n",
    "# Asks a user to input a pokemon name\n",
    "# Requests the poke api for that pokemon's information\n",
    "# Creates the dictionary from above with that pokemons information\n",
    "    # In addition to the above keys, include the height and the \"front_default\" sprite\n",
    "# Returns the dictionary\n",
    "\n",
    "def poke_api_call(pokemon):\n",
    "    api.endpoint = f'https://pokeapi.co/api/v2/pokemon/{pokemon}'\n",
    "    res = get(api_endpoint)\n",
    "    if res.ok:\n",
    "        data = res.json()\n",
    "        poke_dict = {\n",
    "        'abilities': ability_names,\n",
    "        'name': data['name'],\n",
    "        'types': data['types'],\n",
    "        'weight': data['weight'],\n",
    "        'height': data['height'],\n",
    "        'sprite': data['sprites']['front_default']\n",
    "        }\n",
    "        return poke_dict\n",
    "    print('Invalid Input, pass in proper pokemon')\n",
    "\n",
    "print(poke_api_call('pikachu'))\n",
    "\n",
    "print(poke_api_call('pikachudsafd'))\n",
    "\n",
    "print(poke_api_call('hitmonlee'))"
   ]
  },
  {
   "cell_type": "code",
   "execution_count": 13,
   "metadata": {},
   "outputs": [],
   "source": [
    "# def get_pokemon2(pokemon=None):\n",
    "#     api.endpoint = f'https://pokeapi.co/api/v2/pokemon/{pokemon}'\n",
    "#     res = get(api_endpoint)\n",
    "#     if res.ok:\n",
    "#         data = res.json()\n",
    "#         return {k:data[k] for k in ['name', 'weight', 'abilities', 'types']}\n",
    "#         return 'Invalid Input, pass in proper pokemon'\n",
    "#     print('Invalid Input, pass in proper pokemon')\n",
    "\n",
    "# print(poke_api_call('pikachu'))\n",
    "\n",
    "# print(poke_api_call('pikachudsafd'))\n",
    "\n",
    "# print(poke_api_call('hitmonlee'))"
   ]
  },
  {
   "cell_type": "code",
   "execution_count": null,
   "metadata": {},
   "outputs": [],
   "source": []
  },
  {
   "cell_type": "markdown",
   "metadata": {},
   "source": [
    "Choose your pokemon"
   ]
  },
  {
   "cell_type": "code",
   "execution_count": 14,
   "metadata": {
    "collapsed": true
   },
   "outputs": [
    {
     "name": "stdout",
     "output_type": "stream",
     "text": [
      "[874, 365, 478, 861, 869, 876]\n"
     ]
    },
    {
     "ename": "NameError",
     "evalue": "name 'poke_api_call' is not defined",
     "output_type": "error",
     "traceback": [
      "\u001b[0;31m---------------------------------------------------------------------------\u001b[0m",
      "\u001b[0;31mNameError\u001b[0m                                 Traceback (most recent call last)",
      "Cell \u001b[0;32mIn[14], line 12\u001b[0m\n\u001b[1;32m      9\u001b[0m your_team_pokemon \u001b[39m=\u001b[39m []\n\u001b[1;32m     11\u001b[0m \u001b[39mfor\u001b[39;00m teammate \u001b[39min\u001b[39;00m your_team:\n\u001b[0;32m---> 12\u001b[0m     your_team_pokemon\u001b[39m.\u001b[39mappend(poke_api_call(teammate))\n",
      "\u001b[0;31mNameError\u001b[0m: name 'poke_api_call' is not defined"
     ]
    }
   ],
   "source": [
    "from random import randint\n",
    "# Random number generated for each pokemon id\n",
    "random_team = [randint(1,898) for i in range(6)]\n",
    "\n",
    "print(random_team)\n",
    "your_team = ['electabuzz', 'haunter','tyranitar','blaziken','marowak','dragonair']\n"
   ]
  },
  {
   "cell_type": "code",
   "execution_count": null,
   "metadata": {},
   "outputs": [],
   "source": [
    "your_team_dict = {pokemon: get_poke_data(pokemon) for pokemon in your_team}\n",
    "print(len(your_team_dict))\n",
    "\n",
    "your_team_dict"
   ]
  },
  {
   "cell_type": "code",
   "execution_count": null,
   "metadata": {
    "collapsed": true
   },
   "outputs": [
    {
     "name": "stdout",
     "output_type": "stream",
     "text": [
      "SUCCESS\n",
      "SUCCESS\n",
      "SUCCESS\n",
      "SUCCESS\n",
      "SUCCESS\n",
      "SUCCESS\n"
     ]
    },
    {
     "data": {
      "text/plain": [
       "[{'abilities': ['static', 'vital-spirit'],\n",
       "  'name': 'electabuzz',\n",
       "  'types': [{'slot': 1,\n",
       "    'type': {'name': 'electric',\n",
       "     'url': 'https://pokeapi.co/api/v2/type/13/'}}],\n",
       "  'weight': 300,\n",
       "  'height': 11,\n",
       "  'sprite': 'https://raw.githubusercontent.com/PokeAPI/sprites/master/sprites/pokemon/125.png'},\n",
       " {'abilities': ['levitate'],\n",
       "  'name': 'haunter',\n",
       "  'types': [{'slot': 1,\n",
       "    'type': {'name': 'ghost', 'url': 'https://pokeapi.co/api/v2/type/8/'}},\n",
       "   {'slot': 2,\n",
       "    'type': {'name': 'poison', 'url': 'https://pokeapi.co/api/v2/type/4/'}}],\n",
       "  'weight': 1,\n",
       "  'height': 16,\n",
       "  'sprite': 'https://raw.githubusercontent.com/PokeAPI/sprites/master/sprites/pokemon/93.png'},\n",
       " {'abilities': ['sand-stream', 'unnerve'],\n",
       "  'name': 'tyranitar',\n",
       "  'types': [{'slot': 1,\n",
       "    'type': {'name': 'rock', 'url': 'https://pokeapi.co/api/v2/type/6/'}},\n",
       "   {'slot': 2,\n",
       "    'type': {'name': 'dark', 'url': 'https://pokeapi.co/api/v2/type/17/'}}],\n",
       "  'weight': 2020,\n",
       "  'height': 20,\n",
       "  'sprite': 'https://raw.githubusercontent.com/PokeAPI/sprites/master/sprites/pokemon/248.png'},\n",
       " {'abilities': ['blaze', 'speed-boost'],\n",
       "  'name': 'blaziken',\n",
       "  'types': [{'slot': 1,\n",
       "    'type': {'name': 'fire', 'url': 'https://pokeapi.co/api/v2/type/10/'}},\n",
       "   {'slot': 2,\n",
       "    'type': {'name': 'fighting', 'url': 'https://pokeapi.co/api/v2/type/2/'}}],\n",
       "  'weight': 520,\n",
       "  'height': 19,\n",
       "  'sprite': 'https://raw.githubusercontent.com/PokeAPI/sprites/master/sprites/pokemon/257.png'},\n",
       " {'abilities': ['rock-head', 'lightning-rod', 'battle-armor'],\n",
       "  'name': 'marowak',\n",
       "  'types': [{'slot': 1,\n",
       "    'type': {'name': 'ground', 'url': 'https://pokeapi.co/api/v2/type/5/'}}],\n",
       "  'weight': 450,\n",
       "  'height': 10,\n",
       "  'sprite': 'https://raw.githubusercontent.com/PokeAPI/sprites/master/sprites/pokemon/105.png'},\n",
       " {'abilities': ['shed-skin', 'marvel-scale'],\n",
       "  'name': 'dragonair',\n",
       "  'types': [{'slot': 1,\n",
       "    'type': {'name': 'dragon', 'url': 'https://pokeapi.co/api/v2/type/16/'}}],\n",
       "  'weight': 165,\n",
       "  'height': 40,\n",
       "  'sprite': 'https://raw.githubusercontent.com/PokeAPI/sprites/master/sprites/pokemon/148.png'}]"
      ]
     },
     "execution_count": 60,
     "metadata": {},
     "output_type": "execute_result"
    }
   ],
   "source": [
    "list(map(poke_api_call, your_team))"
   ]
  },
  {
   "cell_type": "code",
   "execution_count": null,
   "metadata": {
    "collapsed": true
   },
   "outputs": [
    {
     "data": {
      "text/plain": [
       "[{'abilities': ['static', 'vital-spirit'],\n",
       "  'name': 'electabuzz',\n",
       "  'types': [{'slot': 1,\n",
       "    'type': {'name': 'electric',\n",
       "     'url': 'https://pokeapi.co/api/v2/type/13/'}}],\n",
       "  'weight': 300,\n",
       "  'height': 11,\n",
       "  'sprite': 'https://raw.githubusercontent.com/PokeAPI/sprites/master/sprites/pokemon/125.png'},\n",
       " {'abilities': ['levitate'],\n",
       "  'name': 'haunter',\n",
       "  'types': [{'slot': 1,\n",
       "    'type': {'name': 'ghost', 'url': 'https://pokeapi.co/api/v2/type/8/'}},\n",
       "   {'slot': 2,\n",
       "    'type': {'name': 'poison', 'url': 'https://pokeapi.co/api/v2/type/4/'}}],\n",
       "  'weight': 1,\n",
       "  'height': 16,\n",
       "  'sprite': 'https://raw.githubusercontent.com/PokeAPI/sprites/master/sprites/pokemon/93.png'},\n",
       " {'abilities': ['sand-stream', 'unnerve'],\n",
       "  'name': 'tyranitar',\n",
       "  'types': [{'slot': 1,\n",
       "    'type': {'name': 'rock', 'url': 'https://pokeapi.co/api/v2/type/6/'}},\n",
       "   {'slot': 2,\n",
       "    'type': {'name': 'dark', 'url': 'https://pokeapi.co/api/v2/type/17/'}}],\n",
       "  'weight': 2020,\n",
       "  'height': 20,\n",
       "  'sprite': 'https://raw.githubusercontent.com/PokeAPI/sprites/master/sprites/pokemon/248.png'},\n",
       " {'abilities': ['blaze', 'speed-boost'],\n",
       "  'name': 'blaziken',\n",
       "  'types': [{'slot': 1,\n",
       "    'type': {'name': 'fire', 'url': 'https://pokeapi.co/api/v2/type/10/'}},\n",
       "   {'slot': 2,\n",
       "    'type': {'name': 'fighting', 'url': 'https://pokeapi.co/api/v2/type/2/'}}],\n",
       "  'weight': 520,\n",
       "  'height': 19,\n",
       "  'sprite': 'https://raw.githubusercontent.com/PokeAPI/sprites/master/sprites/pokemon/257.png'},\n",
       " {'abilities': ['rock-head', 'lightning-rod', 'battle-armor'],\n",
       "  'name': 'marowak',\n",
       "  'types': [{'slot': 1,\n",
       "    'type': {'name': 'ground', 'url': 'https://pokeapi.co/api/v2/type/5/'}}],\n",
       "  'weight': 450,\n",
       "  'height': 10,\n",
       "  'sprite': 'https://raw.githubusercontent.com/PokeAPI/sprites/master/sprites/pokemon/105.png'},\n",
       " {'abilities': ['shed-skin', 'marvel-scale'],\n",
       "  'name': 'dragonair',\n",
       "  'types': [{'slot': 1,\n",
       "    'type': {'name': 'dragon', 'url': 'https://pokeapi.co/api/v2/type/16/'}}],\n",
       "  'weight': 165,\n",
       "  'height': 40,\n",
       "  'sprite': 'https://raw.githubusercontent.com/PokeAPI/sprites/master/sprites/pokemon/148.png'}]"
      ]
     },
     "execution_count": 59,
     "metadata": {},
     "output_type": "execute_result"
    }
   ],
   "source": [
    "your_team_pokemon"
   ]
  },
  {
   "cell_type": "code",
   "execution_count": null,
   "metadata": {},
   "outputs": [
    {
     "data": {
      "text/plain": [
       "[245, 333, 191, 436, 392, 105]"
      ]
     },
     "execution_count": 61,
     "metadata": {},
     "output_type": "execute_result"
    }
   ],
   "source": [
    "random_team"
   ]
  },
  {
   "cell_type": "code",
   "execution_count": null,
   "metadata": {},
   "outputs": [
    {
     "name": "stdout",
     "output_type": "stream",
     "text": [
      "SUCCESS\n",
      "SUCCESS\n",
      "SUCCESS\n",
      "SUCCESS\n",
      "SUCCESS\n",
      "SUCCESS\n"
     ]
    }
   ],
   "source": [
    "random_team_pokemon = []\n",
    "\n",
    "for teammate in random_team:\n",
    "    random_team_pokemon.append(poke_api_call(teammate))"
   ]
  },
  {
   "cell_type": "code",
   "execution_count": null,
   "metadata": {
    "collapsed": true
   },
   "outputs": [
    {
     "data": {
      "text/plain": [
       "[{'abilities': ['pressure', 'inner-focus'],\n",
       "  'name': 'suicune',\n",
       "  'types': [{'slot': 1,\n",
       "    'type': {'name': 'water', 'url': 'https://pokeapi.co/api/v2/type/11/'}}],\n",
       "  'weight': 1870,\n",
       "  'height': 20,\n",
       "  'sprite': 'https://raw.githubusercontent.com/PokeAPI/sprites/master/sprites/pokemon/245.png'},\n",
       " {'abilities': ['natural-cure', 'cloud-nine'],\n",
       "  'name': 'swablu',\n",
       "  'types': [{'slot': 1,\n",
       "    'type': {'name': 'normal', 'url': 'https://pokeapi.co/api/v2/type/1/'}},\n",
       "   {'slot': 2,\n",
       "    'type': {'name': 'flying', 'url': 'https://pokeapi.co/api/v2/type/3/'}}],\n",
       "  'weight': 12,\n",
       "  'height': 4,\n",
       "  'sprite': 'https://raw.githubusercontent.com/PokeAPI/sprites/master/sprites/pokemon/333.png'},\n",
       " {'abilities': ['chlorophyll', 'solar-power', 'early-bird'],\n",
       "  'name': 'sunkern',\n",
       "  'types': [{'slot': 1,\n",
       "    'type': {'name': 'grass', 'url': 'https://pokeapi.co/api/v2/type/12/'}}],\n",
       "  'weight': 18,\n",
       "  'height': 3,\n",
       "  'sprite': 'https://raw.githubusercontent.com/PokeAPI/sprites/master/sprites/pokemon/191.png'},\n",
       " {'abilities': ['levitate', 'heatproof', 'heavy-metal'],\n",
       "  'name': 'bronzor',\n",
       "  'types': [{'slot': 1,\n",
       "    'type': {'name': 'steel', 'url': 'https://pokeapi.co/api/v2/type/9/'}},\n",
       "   {'slot': 2,\n",
       "    'type': {'name': 'psychic', 'url': 'https://pokeapi.co/api/v2/type/14/'}}],\n",
       "  'weight': 605,\n",
       "  'height': 5,\n",
       "  'sprite': 'https://raw.githubusercontent.com/PokeAPI/sprites/master/sprites/pokemon/436.png'},\n",
       " {'abilities': ['blaze', 'iron-fist'],\n",
       "  'name': 'infernape',\n",
       "  'types': [{'slot': 1,\n",
       "    'type': {'name': 'fire', 'url': 'https://pokeapi.co/api/v2/type/10/'}},\n",
       "   {'slot': 2,\n",
       "    'type': {'name': 'fighting', 'url': 'https://pokeapi.co/api/v2/type/2/'}}],\n",
       "  'weight': 550,\n",
       "  'height': 12,\n",
       "  'sprite': 'https://raw.githubusercontent.com/PokeAPI/sprites/master/sprites/pokemon/392.png'},\n",
       " {'abilities': ['rock-head', 'lightning-rod', 'battle-armor'],\n",
       "  'name': 'marowak',\n",
       "  'types': [{'slot': 1,\n",
       "    'type': {'name': 'ground', 'url': 'https://pokeapi.co/api/v2/type/5/'}}],\n",
       "  'weight': 450,\n",
       "  'height': 10,\n",
       "  'sprite': 'https://raw.githubusercontent.com/PokeAPI/sprites/master/sprites/pokemon/105.png'}]"
      ]
     },
     "execution_count": 63,
     "metadata": {},
     "output_type": "execute_result"
    }
   ],
   "source": [
    "random_team_pokemon"
   ]
  },
  {
   "cell_type": "markdown",
   "metadata": {},
   "source": [
    "#### Use your function to create a dictionary of your Johto League 6  (favorite 6 pokemon)"
   ]
  },
  {
   "cell_type": "code",
   "execution_count": null,
   "metadata": {},
   "outputs": [
    {
     "name": "stdout",
     "output_type": "stream",
     "text": [
      "SUCCESS\n",
      "SUCCESS\n",
      "SUCCESS\n",
      "SUCCESS\n",
      "SUCCESS\n",
      "SUCCESS\n"
     ]
    }
   ],
   "source": [
    "# Place all 6 of your pokemon on the object below, each pokemon should have at least as much info as Pikachu did.\n",
    "my_six_pokemon = {}\n",
    "\n",
    "for teammate in your_team:\n",
    "    my_six_pokemon[teammate] = poke_api_call(teammate)"
   ]
  },
  {
   "cell_type": "code",
   "execution_count": null,
   "metadata": {
    "collapsed": true
   },
   "outputs": [
    {
     "data": {
      "text/plain": [
       "{'electabuzz': {'abilities': ['static', 'vital-spirit'],\n",
       "  'name': 'electabuzz',\n",
       "  'types': [{'slot': 1,\n",
       "    'type': {'name': 'electric',\n",
       "     'url': 'https://pokeapi.co/api/v2/type/13/'}}],\n",
       "  'weight': 300,\n",
       "  'height': 11,\n",
       "  'sprite': 'https://raw.githubusercontent.com/PokeAPI/sprites/master/sprites/pokemon/125.png'},\n",
       " 'haunter': {'abilities': ['levitate'],\n",
       "  'name': 'haunter',\n",
       "  'types': [{'slot': 1,\n",
       "    'type': {'name': 'ghost', 'url': 'https://pokeapi.co/api/v2/type/8/'}},\n",
       "   {'slot': 2,\n",
       "    'type': {'name': 'poison', 'url': 'https://pokeapi.co/api/v2/type/4/'}}],\n",
       "  'weight': 1,\n",
       "  'height': 16,\n",
       "  'sprite': 'https://raw.githubusercontent.com/PokeAPI/sprites/master/sprites/pokemon/93.png'},\n",
       " 'tyranitar': {'abilities': ['sand-stream', 'unnerve'],\n",
       "  'name': 'tyranitar',\n",
       "  'types': [{'slot': 1,\n",
       "    'type': {'name': 'rock', 'url': 'https://pokeapi.co/api/v2/type/6/'}},\n",
       "   {'slot': 2,\n",
       "    'type': {'name': 'dark', 'url': 'https://pokeapi.co/api/v2/type/17/'}}],\n",
       "  'weight': 2020,\n",
       "  'height': 20,\n",
       "  'sprite': 'https://raw.githubusercontent.com/PokeAPI/sprites/master/sprites/pokemon/248.png'},\n",
       " 'blaziken': {'abilities': ['blaze', 'speed-boost'],\n",
       "  'name': 'blaziken',\n",
       "  'types': [{'slot': 1,\n",
       "    'type': {'name': 'fire', 'url': 'https://pokeapi.co/api/v2/type/10/'}},\n",
       "   {'slot': 2,\n",
       "    'type': {'name': 'fighting', 'url': 'https://pokeapi.co/api/v2/type/2/'}}],\n",
       "  'weight': 520,\n",
       "  'height': 19,\n",
       "  'sprite': 'https://raw.githubusercontent.com/PokeAPI/sprites/master/sprites/pokemon/257.png'},\n",
       " 'marowak': {'abilities': ['rock-head', 'lightning-rod', 'battle-armor'],\n",
       "  'name': 'marowak',\n",
       "  'types': [{'slot': 1,\n",
       "    'type': {'name': 'ground', 'url': 'https://pokeapi.co/api/v2/type/5/'}}],\n",
       "  'weight': 450,\n",
       "  'height': 10,\n",
       "  'sprite': 'https://raw.githubusercontent.com/PokeAPI/sprites/master/sprites/pokemon/105.png'},\n",
       " 'dragonair': {'abilities': ['shed-skin', 'marvel-scale'],\n",
       "  'name': 'dragonair',\n",
       "  'types': [{'slot': 1,\n",
       "    'type': {'name': 'dragon', 'url': 'https://pokeapi.co/api/v2/type/16/'}}],\n",
       "  'weight': 165,\n",
       "  'height': 40,\n",
       "  'sprite': 'https://raw.githubusercontent.com/PokeAPI/sprites/master/sprites/pokemon/148.png'}}"
      ]
     },
     "execution_count": 65,
     "metadata": {},
     "output_type": "execute_result"
    }
   ],
   "source": [
    "my_six_pokemon"
   ]
  },
  {
   "cell_type": "markdown",
   "metadata": {},
   "source": [
    "## Lets create a class called 'Pokemon' and create our pokemon as instances"
   ]
  },
  {
   "cell_type": "code",
   "execution_count": 21,
   "metadata": {},
   "outputs": [
    {
     "ename": "NameError",
     "evalue": "name 'get' is not defined",
     "output_type": "error",
     "traceback": [
      "\u001b[0;31m---------------------------------------------------------------------------\u001b[0m",
      "\u001b[0;31mNameError\u001b[0m                                 Traceback (most recent call last)",
      "Cell \u001b[0;32mIn[21], line 32\u001b[0m\n\u001b[1;32m     28\u001b[0m     \u001b[39mdef\u001b[39;00m \u001b[39mdisplay_image\u001b[39m(\u001b[39mself\u001b[39m, width\u001b[39m=\u001b[39m\u001b[39m150\u001b[39m):\n\u001b[1;32m     29\u001b[0m         display(Image(\u001b[39mself\u001b[39m\u001b[39m.\u001b[39mimage,width\u001b[39m=\u001b[39mwidth))\n\u001b[0;32m---> 32\u001b[0m psyduck \u001b[39m=\u001b[39m Pokemon(\u001b[39m'\u001b[39;49m\u001b[39mpsyduck\u001b[39;49m\u001b[39m'\u001b[39;49m)\n\u001b[1;32m     34\u001b[0m psyduck\n\u001b[1;32m     36\u001b[0m psyduck\u001b[39m.\u001b[39mweight\n",
      "Cell \u001b[0;32mIn[21], line 9\u001b[0m, in \u001b[0;36mPokemon.__init__\u001b[0;34m(self, name)\u001b[0m\n\u001b[1;32m      7\u001b[0m \u001b[39mself\u001b[39m\u001b[39m.\u001b[39mtypes \u001b[39m=\u001b[39m []\n\u001b[1;32m      8\u001b[0m \u001b[39mself\u001b[39m\u001b[39m.\u001b[39mimage \u001b[39m=\u001b[39m \u001b[39m'\u001b[39m\u001b[39m'\u001b[39m\n\u001b[0;32m----> 9\u001b[0m \u001b[39mself\u001b[39;49m\u001b[39m.\u001b[39;49mpokemon_api_call()\n",
      "Cell \u001b[0;32mIn[21], line 12\u001b[0m, in \u001b[0;36mPokemon.pokemon_api_call\u001b[0;34m(self)\u001b[0m\n\u001b[1;32m     11\u001b[0m \u001b[39mdef\u001b[39;00m \u001b[39mpokemon_api_call\u001b[39m(\u001b[39mself\u001b[39m):\n\u001b[0;32m---> 12\u001b[0m     response_object \u001b[39m=\u001b[39m get(\u001b[39mf\u001b[39m\u001b[39m'\u001b[39m\u001b[39mhttps://pokeapi.co/api/v2/pokemon/\u001b[39m\u001b[39m{\u001b[39;00m\u001b[39mself\u001b[39m\u001b[39m.\u001b[39mname\u001b[39m}\u001b[39;00m\u001b[39m'\u001b[39m)\n\u001b[1;32m     13\u001b[0m     \u001b[39mif\u001b[39;00m response_object\u001b[39m.\u001b[39mok:\n\u001b[1;32m     14\u001b[0m         poke_info \u001b[39m=\u001b[39m response_object\u001b[39m.\u001b[39mjson()\n",
      "\u001b[0;31mNameError\u001b[0m: name 'get' is not defined"
     ]
    }
   ],
   "source": [
    "class Pokemon:\n",
    "    \n",
    "    def __init__(self, name):\n",
    "        self.name = name\n",
    "        self.abilites = []\n",
    "        self.weight = None\n",
    "        self.types = []\n",
    "        self.image = ''\n",
    "        self.pokemon_api_call()\n",
    "        \n",
    "    def pokemon_api_call(self):\n",
    "        response_object = get(f'https://pokeapi.co/api/v2/pokemon/{self.name}')\n",
    "        if response_object.ok:\n",
    "            poke_info = response_object.json()\n",
    "            self.name = data['name']\n",
    "            self.abilities = data['abilities']\n",
    "            self.weight = data['weight']\n",
    "            self.types = data['types']\n",
    "            self.image = data['sprites']['versions']['generation-v']['black-white']['animated']['front_shiny']\n",
    "            if not self.image:\n",
    "                self.image = data['sprites']['front_default']\n",
    "        else:\n",
    "            print(f'Error: status code {res.status_code}')\n",
    "            \n",
    "    def __repr__(self):\n",
    "        return f'<Pokemon: {self.name}>'\n",
    "    \n",
    "    def display_pokemon_info(self):\n",
    "        print(f'{self.name} Weight: {self.weight}')\n",
    "        print('Types: ', end='')\n",
    "        for poke_type in self.types:\n",
    "            print(poke_type['type']['name'], end=' ')\n",
    "        self.display_image()\n",
    "        for ability in self.abilities:\n",
    "            print(ability['ability']['name'], end=' ')\n",
    "\n",
    "    \n",
    "    def display_image(self, width=150):\n",
    "        display(Image(self.image,width=width))\n",
    "        \n",
    "        \n",
    "psyduck = Pokemon('pikachu')\n",
    "\n",
    "psyduck\n",
    "\n",
    "psyduck.weight\n",
    "\n",
    "psyduck.types\n",
    "\n",
    "display(Image( psyduck.image, width = 150))\n",
    "\n",
    "    #     ability_names = [item['ability']['name'] for item in data['abilities']]\n",
    "        \n",
    "    #     self.types = data['types']\n",
    "    #     self.abilities = ability_names\n",
    "    #     self.weight = data['weight']\n",
    "    #     self.height = data['height']\n",
    "    #     self.sprite = data['sprites']['front_default']\n",
    "        \n",
    "    # def evolve(self):\n",
    "    #     new_poke = input(\"What pokemon should you evolve into?\")\n",
    "    #     self.name = new_poke\n",
    "    #     self.poke_api_call()"
   ]
  },
  {
   "cell_type": "code",
   "execution_count": null,
   "metadata": {},
   "outputs": [],
   "source": [
    "pikachu = Pokemon('pikachu')"
   ]
  },
  {
   "cell_type": "code",
   "execution_count": null,
   "metadata": {},
   "outputs": [
    {
     "name": "stdout",
     "output_type": "stream",
     "text": [
      "60\n"
     ]
    }
   ],
   "source": [
    "print(pikachu.weight)"
   ]
  },
  {
   "cell_type": "markdown",
   "metadata": {},
   "source": [
    "### Let's Catch some Pokemon"
   ]
  },
  {
   "cell_type": "code",
   "execution_count": 33,
   "metadata": {},
   "outputs": [
    {
     "ename": "ModuleNotFoundError",
     "evalue": "No module named 'requests'",
     "output_type": "error",
     "traceback": [
      "\u001b[0;31m---------------------------------------------------------------------------\u001b[0m",
      "\u001b[0;31mModuleNotFoundError\u001b[0m                       Traceback (most recent call last)",
      "Cell \u001b[0;32mIn[33], line 1\u001b[0m\n\u001b[0;32m----> 1\u001b[0m \u001b[39mfrom\u001b[39;00m \u001b[39mrequests\u001b[39;00m \u001b[39mimport\u001b[39;00m get\n\u001b[1;32m      3\u001b[0m pokedex \u001b[39m=\u001b[39m {}\n\u001b[1;32m      5\u001b[0m catching_pokemon \u001b[39m=\u001b[39m \u001b[39mTrue\u001b[39;00m\n",
      "\u001b[0;31mModuleNotFoundError\u001b[0m: No module named 'requests'"
     ]
    }
   ],
   "source": [
    "from requests import get\n",
    "\n",
    "pokedex = {}\n",
    "\n",
    "catching_pokemon = True\n",
    "\n",
    "while catching_pokemon:\n",
    "    pokemon_input = input('what pokemon are you catching? or Done? ').lower()\n",
    "    if pokemon_input == 'done':\n",
    "        catching_pokemon = False\n",
    "    pokemon = Pokemon(pokemon_input)\n",
    "    pokedex[pokemon_input] = pokemon\n",
    "    if pokemon.abilities and pokemon not in pokedex:\n",
    "        pokedex[pokemon_input] = pokemon\n",
    "    else:\n",
    "        print('please use correct poke name')\n",
    "    \n",
    "    print(pokedex)"
   ]
  },
  {
   "cell_type": "code",
   "execution_count": 32,
   "metadata": {},
   "outputs": [
    {
     "ename": "ModuleNotFoundError",
     "evalue": "No module named 'requests'",
     "output_type": "error",
     "traceback": [
      "\u001b[0;31m---------------------------------------------------------------------------\u001b[0m",
      "\u001b[0;31mModuleNotFoundError\u001b[0m                       Traceback (most recent call last)",
      "Cell \u001b[0;32mIn[32], line 1\u001b[0m\n\u001b[0;32m----> 1\u001b[0m \u001b[39mfrom\u001b[39;00m \u001b[39mrequests\u001b[39;00m \u001b[39mimport\u001b[39;00m get\n\u001b[1;32m      3\u001b[0m \u001b[39mclass\u001b[39;00m \u001b[39mPokedex\u001b[39;00m:\n\u001b[1;32m      5\u001b[0m     \u001b[39mdef\u001b[39;00m \u001b[39m__init__\u001b[39m(\u001b[39mself\u001b[39m, username):\n",
      "\u001b[0;31mModuleNotFoundError\u001b[0m: No module named 'requests'"
     ]
    }
   ],
   "source": [
    "\n",
    "\n",
    "class Pokedex:\n",
    "    \n",
    "    def __init__(self, username):\n",
    "        self.username = username\n",
    "        self.collection = {}\n",
    "        \n",
    "    def __repr__(self):\n",
    "        return f'<Pokedex: {self.username}>'\n",
    "    \n",
    "    def build_team(self):\n",
    "        while True:\n",
    "            building= input('Are you still building your team? [y]es/[n]o? ').lower()\n",
    "            if building in 'yes':\n",
    "                self.add_pokemon()\n",
    "            elif building == 'n' or building == 'no':\n",
    "                break\n",
    "                \n",
    "    def add_pokemon(self):\n",
    "        pokemon_to_add = input('What pokemon are we adding? ').lower()\n",
    "        pokemon = Pokemon(pokemon_to_add)\n",
    "        if pokemon.abilities:\n",
    "            self.collection[pokemon.name] = pokemon\n",
    "        else:\n",
    "            print('Error incorrect Pokemon Name/ Nothing Added')\n",
    "                \n",
    "    def remove_pokemon(self):\n",
    "        pokemon_to_remove = input('What pokemon are we removing? ').lower()\n",
    "        if pokemon_to_remove in self.collection:\n",
    "            self.collection.pop(pokemon_to_remove)\n",
    "        else:\n",
    "            print('Error: Pokemon not in collection')\n",
    "            \n",
    "    def display_collection(self):\n",
    "        print(f'{self.username}\\'s Collection:')\n",
    "        for pokemon in self.collection:\n",
    "            print(f'{pokemon}: {self.collection[pokemon]}')\n",
    "            poke_instance.display_collection\n",
    "\n",
    "    \n",
    "    \n",
    "pokedex = Pokedex('sean')\n",
    "\n",
    "\n",
    "\n",
    "pokedex.build_team()\n",
    "print('\\n')\n",
    "pokedex.display_collection()\n",
    "           \n",
    "        \n",
    "\n",
    "    # Add a pokemon lookup method to lookup a pokemon and display it's information (In a user friendly way)"
   ]
  },
  {
   "cell_type": "code",
   "execution_count": null,
   "metadata": {},
   "outputs": [],
   "source": [
    "print((f'{pokedex.pokedex= }'))\n"
   ]
  },
  {
   "cell_type": "code",
   "execution_count": null,
   "metadata": {},
   "outputs": [
    {
     "name": "stdout",
     "output_type": "stream",
     "text": [
      "ho-oh was added to dylan's pokedex.\n"
     ]
    }
   ],
   "source": [
    "dylans_pokedex.add_pokemon('ho-oh')"
   ]
  },
  {
   "cell_type": "code",
   "execution_count": null,
   "metadata": {},
   "outputs": [
    {
     "data": {
      "text/plain": [
       "{'ho-oh': <__main__.Pokemon at 0x2107d300a20>}"
      ]
     },
     "execution_count": 80,
     "metadata": {},
     "output_type": "execute_result"
    }
   ],
   "source": [
    "dylans_pokedex.pokemon"
   ]
  },
  {
   "cell_type": "markdown",
   "metadata": {},
   "source": [
    "## Exercise 1:"
   ]
  },
  {
   "attachments": {},
   "cell_type": "markdown",
   "metadata": {},
   "source": [
    "### Create a Method prints a random image of your pokemon\n",
    "\n",
    "<p>HINT: You may need another attribute as well to store your image url within. </p>"
   ]
  },
  {
   "cell_type": "code",
   "execution_count": null,
   "metadata": {},
   "outputs": [
    {
     "data": {
      "image/png": "[encoded data removed]",
      "text/plain": [
       "<IPython.core.display.Image object>"
      ]
     },
     "metadata": {
      "image/png": {
       "width": 200
      }
     },
     "output_type": "display_data"
    }
   ],
   "source": [
    "# Display an image in Jupyter notebook\n",
    "from IPython.display import Image\n",
    "\n",
    "display(Image('https://raw.githubusercontent.com/PokeAPI/sprites/master/sprites/pokemon/245.png', width = 200))\n"
   ]
  },
  {
   "cell_type": "code",
   "execution_count": null,
   "metadata": {},
   "outputs": [],
   "source": [
    "# recreate your pokemon class here\n",
    "class Pokemon:\n",
    "    pass"
   ]
  },
  {
   "cell_type": "code",
   "execution_count": null,
   "metadata": {},
   "outputs": [],
   "source": []
  },
  {
   "cell_type": "code",
   "execution_count": null,
   "metadata": {},
   "outputs": [],
   "source": [
    "# Calling our new method\n"
   ]
  },
  {
   "cell_type": "markdown",
   "metadata": {},
   "source": [
    "## Exercise 2:"
   ]
  },
  {
   "cell_type": "markdown",
   "metadata": {},
   "source": [
    "### Create a Method that evolves your Pokemon\n",
    "If your pokemon can't evolve any further print a message that says \"\\<name of pokemon> can't evolve.\""
   ]
  },
  {
   "cell_type": "code",
   "execution_count": null,
   "metadata": {},
   "outputs": [],
   "source": [
    "# Create a method for your Pokemon class that takes in user input, \n",
    "# to ask what new pokemon your current pokemon should evolve into."
   ]
  },
  {
   "cell_type": "code",
   "execution_count": null,
   "metadata": {},
   "outputs": [],
   "source": [
    "# Create a method\n",
    "# Take in user input, should be a pokemons name\n",
    "# Update the current pokemon's attributes (their height, weight, sprite, etc.) to the new pokemon's values\n"
   ]
  },
  {
   "cell_type": "markdown",
   "metadata": {},
   "source": [
    "Now let's evolve a few"
   ]
  },
  {
   "cell_type": "code",
   "execution_count": null,
   "metadata": {
    "scrolled": true
   },
   "outputs": [
    {
     "name": "stdout",
     "output_type": "stream",
     "text": [
      "https://raw.githubusercontent.com/PokeAPI/sprites/master/sprites/pokemon/25.png\n"
     ]
    }
   ],
   "source": [
    "pikachu = Pokemon('pikachu')\n",
    "\n",
    "print(pikachu.sprite)"
   ]
  },
  {
   "cell_type": "code",
   "execution_count": null,
   "metadata": {},
   "outputs": [
    {
     "name": "stdout",
     "output_type": "stream",
     "text": [
      "What pokemon should you evolve into?raichu\n"
     ]
    }
   ],
   "source": [
    "pikachu.evolve()"
   ]
  },
  {
   "cell_type": "code",
   "execution_count": null,
   "metadata": {},
   "outputs": [
    {
     "data": {
      "text/plain": [
       "'https://raw.githubusercontent.com/PokeAPI/sprites/master/sprites/pokemon/26.png'"
      ]
     },
     "execution_count": 94,
     "metadata": {},
     "output_type": "execute_result"
    }
   ],
   "source": [
    "pikachu.sprite\n"
   ]
  },
  {
   "cell_type": "code",
   "execution_count": null,
   "metadata": {},
   "outputs": [],
   "source": []
  },
  {
   "cell_type": "markdown",
   "metadata": {},
   "source": [
    "#  Final Exercise (Optional): <br> <br>Create a Move_Tutor Class that will allow the Pokemon Class to inherit a move list.\n",
    "<br>\n",
    "<p>for an added bonus you can make sure that if a pokemon has 4 moves the user can choose one of them to replace with a new move. </p>"
   ]
  },
  {
   "cell_type": "code",
   "execution_count": null,
   "metadata": {},
   "outputs": [],
   "source": [
    "class Move_Tutor:\n",
    "    def __init__(self):\n",
    "        self.move_list = []"
   ]
  },
  {
   "cell_type": "code",
   "execution_count": null,
   "metadata": {},
   "outputs": [],
   "source": []
  },
  {
   "cell_type": "code",
   "execution_count": null,
   "metadata": {},
   "outputs": [
    {
     "name": "stdout",
     "output_type": "stream",
     "text": [
      "What move would you like to teach pikachu? spark\n",
      "pikachu learned spark!\n"
     ]
    }
   ],
   "source": [
    "pikachu.teach_move()\n"
   ]
  },
  {
   "cell_type": "code",
   "execution_count": null,
   "metadata": {},
   "outputs": [
    {
     "name": "stdout",
     "output_type": "stream",
     "text": [
      "pikachu's moves'\n",
      "thunder\n",
      "surf\n",
      "earthquake\n"
     ]
    }
   ],
   "source": [
    "pikachu.show_moves()"
   ]
  }
 ],
 "metadata": {
  "kernelspec": {
   "display_name": "Python 3",
   "language": "python",
   "name": "python3"
  },
  "language_info": {
   "codemirror_mode": {
    "name": "ipython",
    "version": 3
   },
   "file_extension": ".py",
   "mimetype": "text/x-python",
   "name": "python",
   "nbconvert_exporter": "python",
   "pygments_lexer": "ipython3",
   "version": "3.11.3"
  }
 },
 "nbformat": 4,
 "nbformat_minor": 4
}
